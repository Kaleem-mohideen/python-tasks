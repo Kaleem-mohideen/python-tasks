{
 "cells": [
  {
   "cell_type": "code",
   "execution_count": 47,
   "id": "fa7ec98a",
   "metadata": {},
   "outputs": [
    {
     "name": "stdout",
     "output_type": "stream",
     "text": [
      "Enter the string:abcdefghijk\n",
      "     f     \n",
      "    e g    \n",
      "   d   h   \n",
      "  c     i  \n",
      " b       j \n",
      "a         k\n",
      " b       j \n",
      "  c     i  \n",
      "   d   h   \n",
      "    e g    \n",
      "     f     \n"
     ]
    }
   ],
   "source": [
    "a = input(\"Enter the string:\")\n",
    "l = len(a)\n",
    "mid=l//2\n",
    "k =l//2\n",
    "if len(a)%2 != 0:\n",
    "    for i in range(l):\n",
    "        for j in range(l):\n",
    "            if i == mid-j or i==mid+j or j==mid+i or i==mid+((l-1)-j):\n",
    "                print(a[j],end=\"\")\n",
    "            else:\n",
    "                print(' ',end='')\n",
    "        print()\n",
    "else:\n",
    "    print(\"Not Possible\")\n",
    "        \n",
    "\n",
    "        \n",
    "        \n",
    "    "
   ]
  },
  {
   "cell_type": "code",
   "execution_count": 107,
   "id": "4efe2d13",
   "metadata": {},
   "outputs": [
    {
     "name": "stdout",
     "output_type": "stream",
     "text": [
      "Enter the Number=7\n",
      "1 18 17 16 15 14 13 \n",
      "\n",
      "  2         12 \n",
      "\n",
      "    3       11 \n",
      "\n",
      "      4     10 \n",
      "\n",
      "        5   9 \n",
      "\n",
      "          6 8 \n",
      "\n",
      "            7 \n",
      "\n"
     ]
    }
   ],
   "source": [
    "\n",
    "a = int(input(\"Enter the Number=\"))\n",
    "k = a+a\n",
    "b = k-1\n",
    "for i in range(1,a+1):\n",
    "    for j in range(1,a+1):\n",
    "        if i==j:\n",
    "            print(i, end=\" \")\n",
    "        elif(j==a and i>=1):\n",
    "            k-=1\n",
    "            print(k, end=\" \")\n",
    "        elif(i==1 and j>=1):\n",
    "            print(b+(a-2), end=\" \")\n",
    "            b-=1\n",
    "        else:\n",
    "            print(\" \",end=\" \")\n",
    "    print()\n",
    "    print()\n",
    "    "
   ]
  },
  {
   "cell_type": "code",
   "execution_count": 34,
   "id": "178f1e5b",
   "metadata": {},
   "outputs": [
    {
     "name": "stdout",
     "output_type": "stream",
     "text": [
      "<class 'tuple'>\n",
      "True\n"
     ]
    }
   ],
   "source": [
    "a = (2,4)\n",
    "b = str(a)\n",
    "print(type(eval(b)))\n",
    "if a:\n",
    "    print(True)"
   ]
  },
  {
   "cell_type": "code",
   "execution_count": 53,
   "id": "3bcd59f8",
   "metadata": {},
   "outputs": [
    {
     "name": "stdout",
     "output_type": "stream",
     "text": [
      "<class 'int'>\n",
      "<class 'tuple'>\n"
     ]
    }
   ],
   "source": [
    "b = \"5 - (231.0, 850.0)\"\n",
    "c,f = b.split(' - ')\n",
    "c, f= eval(c), eval(f)\n",
    "print(type(c))\n",
    "print(type(f))"
   ]
  },
  {
   "cell_type": "code",
   "execution_count": 1,
   "id": "79422589",
   "metadata": {},
   "outputs": [],
   "source": [
    "var = \"\"\"samsung,'OEM Samsung Washing Machine Pulsator Washplate Cap Shipped With WA48J7700AW, WA48J7700AW/A2, WA48J7700AW/AA',20916,samsung,'OEM Samsung Chrome Washing Machine Washplate Pulsator Cap Shipped With WA52M7750AV, WA52M7750AV/A4, WA52M7750AW, WA52M7750AW/A4',91995,samsung, 'SAMSUNG Washing Machine Spring Hanger, DC61-01257M', 22970,samsung,'Samsung DC97-17022B Assy Detergent',32959,samsung,'Samsung DC66-00470A DAMPER SHOCK',29981,samsung,'DC64-00519D Samsung Washing Machine Door Lock Washer Dryer Dishwashe -MP#GH4498 349Y49HBRG9109150',52000,samsung,'Samsung DC97-16991A Assembly Filter',13000\"\"\""
   ]
  },
  {
   "cell_type": "code",
   "execution_count": 18,
   "id": "03e921ac",
   "metadata": {},
   "outputs": [
    {
     "data": {
      "text/plain": [
       "\",samsung,'OEM Samsung Washing Machine Pulsator Washplate Cap Shipped With WA48J7700AW, WA48J7700AW/A2, WA48J7700AW/AA',20916,samsung,'OEM Samsung Chrome Washing Machine Washplate Pulsator Cap Shipped With WA52M7750AV, WA52M7750AV/A4, WA52M7750AW, WA52M7750AW/A4',91995,samsung, 'SAMSUNG Washing Machine Spring Hanger, DC61-01257M', 22970,samsung,'Samsung DC97-17022B Assy Detergent',32959,samsung,'Samsung DC66-00470A DAMPER SHOCK',29981,samsung,'DC64-00519D Samsung Washing Machine Door Lock Washer Dryer Dishwashe -MP#GH4498 349Y49HBRG9109150',52000,samsung,'Samsung DC97-16991A Assembly Filter',13000\""
      ]
     },
     "execution_count": 18,
     "metadata": {},
     "output_type": "execute_result"
    }
   ],
   "source": [
    "var = var.rjust(len(var)+1, ',')\n",
    "var"
   ]
  },
  {
   "cell_type": "code",
   "execution_count": 53,
   "id": "9710652b",
   "metadata": {},
   "outputs": [
    {
     "data": {
      "text/plain": [
       "[\"samsung,'OEM Samsung Washing Machine Pulsator Washplate Cap Shipped With WA48J7700AW, WA48J7700AW/A2, WA48J7700AW/AA',20916\",\n",
       " \"samsung,'OEM Samsung Chrome Washing Machine Washplate Pulsator Cap Shipped With WA52M7750AV, WA52M7750AV/A4, WA52M7750AW, WA52M7750AW/A4',91995\",\n",
       " \"samsung, 'SAMSUNG Washing Machine Spring Hanger, DC61-01257M', 22970\",\n",
       " \"samsung,'Samsung DC97-17022B Assy Detergent',32959\",\n",
       " \"samsung,'Samsung DC66-00470A DAMPER SHOCK',29981\",\n",
       " \"samsung,'DC64-00519D Samsung Washing Machine Door Lock Washer Dryer Dishwashe -MP#GH4498 349Y49HBRG9109150',52000\",\n",
       " \"samsung,'Samsung DC97-16991A Assembly Filter',13000\"]"
      ]
     },
     "execution_count": 53,
     "metadata": {},
     "output_type": "execute_result"
    }
   ],
   "source": [
    "newList = [\"samsung,\" + s for s in var.split(\",samsung,\")[1:]]\n",
    "newList"
   ]
  },
  {
   "cell_type": "code",
   "execution_count": 52,
   "id": "f0d4141f",
   "metadata": {},
   "outputs": [
    {
     "data": {
      "text/plain": [
       "[\"samsung,'Samsung DC97-16991A Assembly Filter',13000\",\n",
       " \"samsung,'OEM Samsung Washing Machine Pulsator Washplate Cap Shipped With WA48J7700AW, WA48J7700AW/A2, WA48J7700AW/AA',20916\",\n",
       " \"samsung, 'SAMSUNG Washing Machine Spring Hanger, DC61-01257M', 22970\",\n",
       " \"samsung,'Samsung DC66-00470A DAMPER SHOCK',29981\",\n",
       " \"samsung,'Samsung DC97-17022B Assy Detergent',32959\",\n",
       " \"samsung,'DC64-00519D Samsung Washing Machine Door Lock Washer Dryer Dishwashe -MP#GH4498 349Y49HBRG9109150',52000\",\n",
       " \"samsung,'OEM Samsung Chrome Washing Machine Washplate Pulsator Cap Shipped With WA52M7750AV, WA52M7750AV/A4, WA52M7750AW, WA52M7750AW/A4',91995\"]"
      ]
     },
     "execution_count": 52,
     "metadata": {},
     "output_type": "execute_result"
    }
   ],
   "source": [
    "import  re\n",
    "r = re.compile(\"\\d+$\")\n",
    "l = newList\n",
    "l.sort(key=lambda x: int(r.search(x).group()))\n",
    "l"
   ]
  },
  {
   "cell_type": "code",
   "execution_count": 45,
   "id": "76f6c6b0",
   "metadata": {},
   "outputs": [
    {
     "name": "stdout",
     "output_type": "stream",
     "text": [
      "samsung,'OEM Samsung Washing Machine Pulsator Washplate Cap Shipped With WA48J7700AW, WA48J7700AW/A2, WA48J7700AW/AA',20916\n",
      "[\"samsung,'OEM Samsung Washing Machine Pulsator Washplate Cap Shipped With WA48J7700AW, WA48J7700AW/A2, WA48J7700AW/AA',\", '20916', '']\n",
      "\n",
      "samsung,'OEM Samsung Chrome Washing Machine Washplate Pulsator Cap Shipped With WA52M7750AV, WA52M7750AV/A4, WA52M7750AW, WA52M7750AW/A4',91995\n",
      "[\"samsung,'OEM Samsung Chrome Washing Machine Washplate Pulsator Cap Shipped With WA52M7750AV, WA52M7750AV/A4, WA52M7750AW, WA52M7750AW/A4',\", '91995', '']\n",
      "\n",
      "samsung, 'SAMSUNG Washing Machine Spring Hanger, DC61-01257M', 22970\n",
      "[\"samsung, 'SAMSUNG Washing Machine Spring Hanger, DC61-01257M', \", '22970', '']\n",
      "\n",
      "samsung,'Samsung DC97-17022B Assy Detergent',32959\n",
      "[\"samsung,'Samsung DC97-17022B Assy Detergent',\", '32959', '']\n",
      "\n",
      "samsung,'Samsung DC66-00470A DAMPER SHOCK',29981\n",
      "[\"samsung,'Samsung DC66-00470A DAMPER SHOCK',\", '29981', '']\n",
      "\n",
      "samsung,'DC64-00519D Samsung Washing Machine Door Lock Washer Dryer Dishwashe -MP#GH4498 349Y49HBRG9109150',52000\n",
      "[\"samsung,'DC64-00519D Samsung Washing Machine Door Lock Washer Dryer Dishwashe -MP#GH4498 349Y49HBRG9109150',\", '52000', '']\n",
      "\n",
      "samsung,'Samsung DC97-16991A Assembly Filter',13000\n",
      "[\"samsung,'Samsung DC97-16991A Assembly Filter',\", '13000', '']\n",
      "\n"
     ]
    }
   ],
   "source": [
    "import re\n",
    "for i in newList:\n",
    "    print(i)\n",
    "    print(re.split('(\\d+)$', i))\n",
    "    print()"
   ]
  },
  {
   "cell_type": "code",
   "execution_count": 1,
   "id": "c5c92d3b",
   "metadata": {},
   "outputs": [
    {
     "name": "stdout",
     "output_type": "stream",
     "text": [
      "L1:  [1, 2, 3, 4, 5]\n",
      "L2:  [1, 2, 3, 4, 5]\n",
      "2801936235200\n",
      "2801936235200\n"
     ]
    }
   ],
   "source": [
    "L1 = [1,2,3,4]\n",
    "L2 = L1\n",
    "L2.append(5)\n",
    "print(\"L1: \", L1)\n",
    "print(\"L2: \", L2)\n",
    "print(id(L1))\n",
    "print(id(L2))"
   ]
  },
  {
   "cell_type": "code",
   "execution_count": 2,
   "id": "d835aa21",
   "metadata": {},
   "outputs": [
    {
     "name": "stdout",
     "output_type": "stream",
     "text": [
      "L1:  (1, 2, 3, 4)\n",
      "L2:  (1, 2, 3, 4, 5)\n",
      "2801936065376\n",
      "2801935654240\n"
     ]
    }
   ],
   "source": [
    "L1=(1,2,3,4)\n",
    "L2=L1\n",
    "L2 += (5,)\n",
    "print(\"L1: \", L1)\n",
    "print(\"L2: \", L2)\n",
    "print(id(L1))\n",
    "print(id(L2))"
   ]
  }
 ],
 "metadata": {
  "kernelspec": {
   "display_name": "Python 3 (ipykernel)",
   "language": "python",
   "name": "python3"
  },
  "language_info": {
   "codemirror_mode": {
    "name": "ipython",
    "version": 3
   },
   "file_extension": ".py",
   "mimetype": "text/x-python",
   "name": "python",
   "nbconvert_exporter": "python",
   "pygments_lexer": "ipython3",
   "version": "3.9.13"
  }
 },
 "nbformat": 4,
 "nbformat_minor": 5
}
